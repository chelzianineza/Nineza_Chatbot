{
  "nbformat": 4,
  "nbformat_minor": 0,
  "metadata": {
    "colab": {
      "provenance": []
    },
    "kernelspec": {
      "name": "python3",
      "display_name": "Python 3"
    },
    "language_info": {
      "name": "python"
    }
  },
  "cells": [
    {
      "cell_type": "code",
      "execution_count": 12,
      "metadata": {
        "colab": {
          "base_uri": "https://localhost:8080/",
          "height": 0
        },
        "collapsed": true,
        "id": "0YT6Gc6R8SN_",
        "outputId": "9941627e-2b42-42d9-dd22-3a002fc659b4"
      },
      "outputs": [
        {
          "output_type": "stream",
          "name": "stdout",
          "text": [
            "Requirement already satisfied: transformers in /usr/local/lib/python3.10/dist-packages (4.44.2)\n",
            "Requirement already satisfied: torch in /usr/local/lib/python3.10/dist-packages (2.4.1+cu121)\n",
            "Requirement already satisfied: nltk in /usr/local/lib/python3.10/dist-packages (3.8.1)\n",
            "Requirement already satisfied: flask in /usr/local/lib/python3.10/dist-packages (2.2.5)\n",
            "Requirement already satisfied: filelock in /usr/local/lib/python3.10/dist-packages (from transformers) (3.16.1)\n",
            "Requirement already satisfied: huggingface-hub<1.0,>=0.23.2 in /usr/local/lib/python3.10/dist-packages (from transformers) (0.24.7)\n",
            "Requirement already satisfied: numpy>=1.17 in /usr/local/lib/python3.10/dist-packages (from transformers) (1.26.4)\n",
            "Requirement already satisfied: packaging>=20.0 in /usr/local/lib/python3.10/dist-packages (from transformers) (24.1)\n",
            "Requirement already satisfied: pyyaml>=5.1 in /usr/local/lib/python3.10/dist-packages (from transformers) (6.0.2)\n",
            "Requirement already satisfied: regex!=2019.12.17 in /usr/local/lib/python3.10/dist-packages (from transformers) (2024.9.11)\n",
            "Requirement already satisfied: requests in /usr/local/lib/python3.10/dist-packages (from transformers) (2.32.3)\n",
            "Requirement already satisfied: safetensors>=0.4.1 in /usr/local/lib/python3.10/dist-packages (from transformers) (0.4.5)\n",
            "Requirement already satisfied: tokenizers<0.20,>=0.19 in /usr/local/lib/python3.10/dist-packages (from transformers) (0.19.1)\n",
            "Requirement already satisfied: tqdm>=4.27 in /usr/local/lib/python3.10/dist-packages (from transformers) (4.66.5)\n",
            "Requirement already satisfied: typing-extensions>=4.8.0 in /usr/local/lib/python3.10/dist-packages (from torch) (4.12.2)\n",
            "Requirement already satisfied: sympy in /usr/local/lib/python3.10/dist-packages (from torch) (1.13.3)\n",
            "Requirement already satisfied: networkx in /usr/local/lib/python3.10/dist-packages (from torch) (3.3)\n",
            "Requirement already satisfied: jinja2 in /usr/local/lib/python3.10/dist-packages (from torch) (3.1.4)\n",
            "Requirement already satisfied: fsspec in /usr/local/lib/python3.10/dist-packages (from torch) (2024.6.1)\n",
            "Requirement already satisfied: click in /usr/local/lib/python3.10/dist-packages (from nltk) (8.1.7)\n",
            "Requirement already satisfied: joblib in /usr/local/lib/python3.10/dist-packages (from nltk) (1.4.2)\n",
            "Requirement already satisfied: Werkzeug>=2.2.2 in /usr/local/lib/python3.10/dist-packages (from flask) (3.0.4)\n",
            "Requirement already satisfied: itsdangerous>=2.0 in /usr/local/lib/python3.10/dist-packages (from flask) (2.2.0)\n",
            "Requirement already satisfied: MarkupSafe>=2.0 in /usr/local/lib/python3.10/dist-packages (from jinja2->torch) (2.1.5)\n",
            "Requirement already satisfied: charset-normalizer<4,>=2 in /usr/local/lib/python3.10/dist-packages (from requests->transformers) (3.3.2)\n",
            "Requirement already satisfied: idna<4,>=2.5 in /usr/local/lib/python3.10/dist-packages (from requests->transformers) (3.10)\n",
            "Requirement already satisfied: urllib3<3,>=1.21.1 in /usr/local/lib/python3.10/dist-packages (from requests->transformers) (2.2.3)\n",
            "Requirement already satisfied: certifi>=2017.4.17 in /usr/local/lib/python3.10/dist-packages (from requests->transformers) (2024.8.30)\n",
            "Requirement already satisfied: mpmath<1.4,>=1.1.0 in /usr/local/lib/python3.10/dist-packages (from sympy->torch) (1.3.0)\n"
          ]
        }
      ],
      "source": [
        "pip install transformers torch nltk flask"
      ]
    },
    {
      "cell_type": "code",
      "source": [
        "import pandas as pd\n",
        "from transformers import pipeline\n",
        "\n",
        "def load_data():\n",
        "    #dataset\n",
        "    data = pd.read_csv('conversations.csv')\n",
        "    return data\n",
        "\n",
        "def initialize_ner_model():\n",
        "    #pre-trained NER model\n",
        "    ner_model = pipeline(\"ner\", aggregation_strategy=\"simple\")\n",
        "    return ner_model\n",
        "\n",
        "data = load_data()\n",
        "ner_model = initialize_ner_model()"
      ],
      "metadata": {
        "id": "_P8tTBhN8dph",
        "outputId": "d3175acd-09b9-4e47-e382-8fbad9c5557c",
        "colab": {
          "base_uri": "https://localhost:8080/",
          "height": 0
        },
        "collapsed": true
      },
      "execution_count": 20,
      "outputs": [
        {
          "output_type": "stream",
          "name": "stderr",
          "text": [
            "No model was supplied, defaulted to dbmdz/bert-large-cased-finetuned-conll03-english and revision f2482bf (https://huggingface.co/dbmdz/bert-large-cased-finetuned-conll03-english).\n",
            "Using a pipeline without specifying a model name and revision in production is not recommended.\n",
            "Some weights of the model checkpoint at dbmdz/bert-large-cased-finetuned-conll03-english were not used when initializing BertForTokenClassification: ['bert.pooler.dense.bias', 'bert.pooler.dense.weight']\n",
            "- This IS expected if you are initializing BertForTokenClassification from the checkpoint of a model trained on another task or with another architecture (e.g. initializing a BertForSequenceClassification model from a BertForPreTraining model).\n",
            "- This IS NOT expected if you are initializing BertForTokenClassification from the checkpoint of a model that you expect to be exactly identical (initializing a BertForSequenceClassification model from a BertForSequenceClassification model).\n",
            "/usr/local/lib/python3.10/dist-packages/transformers/tokenization_utils_base.py:1601: FutureWarning: `clean_up_tokenization_spaces` was not set. It will be set to `True` by default. This behavior will be depracted in transformers v4.45, and will be then set to `False` by default. For more details check this issue: https://github.com/huggingface/transformers/issues/31884\n",
            "  warnings.warn(\n"
          ]
        }
      ]
    },
    {
      "cell_type": "code",
      "source": [
        "import random\n",
        "\n",
        "responses = {\n",
        "    \"greetings\": [\"Hello! How can I assist you today?\", \"Hi there! What can I do for you?\", \"Hey! How can I help?\"],\n",
        "    \"goodbye\": [\"Goodbye! Have a great day!\", \"See you later!\", \"Take care!\"],\n",
        "    \"flight_booking\": [\"Where would you like to fly?\", \"I'll book your flight right away!\"],\n",
        "    \"weather\": [\"The weather is sunny today.\", \"It's raining in some areas.\", \"Expect cloudy skies today.\"],\n",
        "    \"cancel_booking\": [\"Your booking has been canceled.\", \"I've successfully canceled your booking.\"],\n",
        "    \"reminder\": [\"Reminder set!\", \"I'll remind you at the specified time.\"],\n",
        "    \"flight_status\": [\"Let me check your flight status.\", \"Your flight is on time.\", \"Your flight is delayed.\"]\n",
        "}\n",
        "\n",
        "#closest intent\n",
        "def find_intent(user_input):\n",
        "    for _, row in data.iterrows():\n",
        "        if row['user_input'].lower() in user_input.lower():\n",
        "            return row['intent']\n",
        "    return \"unknown\"\n",
        "\n",
        "#chatbot response\n",
        "def simulate_response(user_input):\n",
        "    intent = find_intent(user_input)\n",
        "\n",
        "    if intent == \"unknown\":\n",
        "        return \"I'm sorry, I didn't understand that.\", []\n",
        "    response = random.choice(responses[intent])\n",
        "\n",
        "    entities = ner_model(user_input)\n",
        "    return response, entities"
      ],
      "metadata": {
        "id": "APQiiWTY8p6a"
      },
      "execution_count": 26,
      "outputs": []
    },
    {
      "cell_type": "code",
      "source": [
        "def chatbot():\n",
        "    print(\"Chatbot: Hello! I am here to help you. (Type 'exit' to end the conversation.)\")\n",
        "    conversation_feedback = []\n",
        "\n",
        "    while True:\n",
        "        user_input = input(\"You: \")\n",
        "        if user_input.lower() == 'exit':\n",
        "            break\n",
        "\n",
        "        #get response, entities, and intent\n",
        "        response, entities = simulate_response(user_input)\n",
        "        intent = find_intent(user_input)  # Get the intent\n",
        "\n",
        "        #chatbot response, entities, and intent\n",
        "        print(f\"Chatbot: {response}\")\n",
        "        print(f\"Intent: {intent}\")  # Print the intent\n",
        "        if entities:\n",
        "            print(f\"Entities: {entities}\")\n",
        "        else:\n",
        "            print(\"No entities found.\")\n",
        "\n",
        "        #feedback\n",
        "        feedback = input(\"Please rate my response (1-5): \")\n",
        "        conversation_feedback.append({\n",
        "            'user_input': user_input,\n",
        "            'intent': intent,\n",
        "            'entities': entities,\n",
        "            'feedback': feedback\n",
        "        })\n",
        "\n",
        "        if int(feedback) <= 2:\n",
        "            print(\"Thank you for your feedback! I'll try to improve next time.\")\n",
        "        else:\n",
        "            print(\"Thank you! I'm glad you found it helpful.\")\n",
        "\n",
        "if __name__ == \"__main__\":\n",
        "    chatbot()"
      ],
      "metadata": {
        "colab": {
          "base_uri": "https://localhost:8080/",
          "height": 0
        },
        "id": "xCVDcaXc8zQJ",
        "outputId": "0382b139-beb8-46ae-b1fb-15f70353eff0"
      },
      "execution_count": 28,
      "outputs": [
        {
          "name": "stdout",
          "output_type": "stream",
          "text": [
            "Chatbot: Hello! I am here to help you. (Type 'exit' to end the conversation.)\n",
            "You: Cancel my flight booking to London\n",
            "Chatbot: Your booking has been canceled.\n",
            "Intent: cancel_booking\n",
            "Entities: [{'entity_group': 'LOC', 'score': 0.9986123, 'word': 'London', 'start': 28, 'end': 34}]\n",
            "Please rate my response (1-5): 5\n",
            "Thank you! I'm glad you found it helpful.\n",
            "You: exit\n"
          ]
        }
      ]
    }
  ]
}